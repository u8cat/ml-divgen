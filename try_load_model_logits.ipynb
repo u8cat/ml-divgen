{
 "cells": [
  {
   "cell_type": "code",
   "execution_count": 14,
   "id": "91b05784",
   "metadata": {},
   "outputs": [],
   "source": [
    "import pickle"
   ]
  },
  {
   "cell_type": "code",
   "execution_count": 15,
   "id": "14daf319",
   "metadata": {},
   "outputs": [],
   "source": [
    "sft_samples_path = 'model_outputs/ContextualAI_archangel_sft_pythia2-8b_euclaise_writingprompts_samples_5.pkl'\n",
    "base_samples_path = 'model_outputs/EleutherAI_pythia-2.8b_euclaise_writingprompts_samples_5.pkl'\n",
    "\n",
    "with open(sft_samples_path, 'rb') as f:\n",
    "    sft_samples = pickle.load(f)\n",
    "with open(base_samples_path, 'rb') as f:\n",
    "    base_samples = pickle.load(f)"
   ]
  },
  {
   "cell_type": "code",
   "execution_count": 16,
   "id": "80deb631",
   "metadata": {},
   "outputs": [
    {
     "data": {
      "text/plain": [
       "{'prompt': \"I sat there at the counter waiting to serve the customer that would eventually walk through the front doors, but as I sat there waiting I began to reflect on my life as I usually would. At a young age I knew I wanted to run the general good store, however I never quite knew why for it was n't my families and I had never shopped there before. But here I stand waiting for the next customer, Its almost as if I were made for this job but fate was n't really my thing. However thinking about it more and more I saw a weird pattern in my life: I have never left my town, I follow the same routine every day right down to the minute, and I only say one thing to every customer. I do n't know why I'm like this but I just am, I do n't even know how I pay the rent for I only have one customer and all he does is sell stuff to me, I do n't even know how he does it for he never speaks, and now stocked piled in the back I just have daggers upon daggers and I'm not to sure what to do with them. But life goes on.\\n\",\n",
       " 'generated_logits': [GenerateDecoderOnlyOutput(sequences=tensor([[  42, 2206,  627,  387,  253, 2829,  323,  670]]), scores=(tensor([[-inf, -inf, -inf,  ..., -inf, -inf, -inf]]), tensor([[-inf, -inf, -inf,  ..., -inf, -inf, -inf]]), tensor([[-inf, -inf, -inf,  ..., -inf, -inf, -inf]])), logits=None, attentions=None, hidden_states=None, past_key_values=<transformers.cache_utils.DynamicCache object at 0x7fa650fbbf50>),\n",
       "  GenerateDecoderOnlyOutput(sequences=tensor([[  42, 2206,  627,  387,  253, 4828,   13,  619, 2927]]), scores=(tensor([[-inf, -inf, -inf,  ..., -inf, -inf, -inf]]), tensor([[-inf, -inf, -inf,  ..., -inf, -inf, -inf]]), tensor([[-inf, -inf, -inf,  ..., -inf, -inf, -inf]])), logits=None, attentions=None, hidden_states=None, past_key_values=<transformers.cache_utils.DynamicCache object at 0x7fa650e35a30>),\n",
       "  GenerateDecoderOnlyOutput(sequences=tensor([[  42, 2206,  627,  387,  253, 4828, 6179,  323,  247, 2829]]), scores=(tensor([[-inf, -inf, -inf,  ..., -inf, -inf, -inf]]), tensor([[-inf, -inf, -inf,  ..., -inf, -inf, -inf]]), tensor([[-inf, -inf, -inf,  ..., -inf, -inf, -inf]])), logits=None, attentions=None, hidden_states=None, past_key_values=<transformers.cache_utils.DynamicCache object at 0x7fa650e37470>),\n",
       "  GenerateDecoderOnlyOutput(sequences=tensor([[  42, 2206,  627,  387,  253, 4828, 6179,  281,  923,  665,  309]]), scores=(tensor([[-inf, -inf, -inf,  ..., -inf, -inf, -inf]]), tensor([[-inf, -inf, -inf,  ..., -inf, -inf, -inf]]), tensor([[-inf, -inf, -inf,  ..., -inf, -inf, -inf]])), logits=None, attentions=None, hidden_states=None, past_key_values=<transformers.cache_utils.DynamicCache object at 0x7fa650e78ef0>),\n",
       "  GenerateDecoderOnlyOutput(sequences=tensor([[  42, 2206,  627,  387,  253, 4828, 6179,  281, 5752,  253,  806, 2829]]), scores=(tensor([[-inf, -inf, -inf,  ..., -inf, -inf, -inf]]), tensor([[-inf, -inf, -inf,  ..., -inf, -inf, -inf]]), tensor([[-inf, -inf, -inf,  ..., -inf, -inf, -inf]])), logits=None, attentions=None, hidden_states=None, past_key_values=<transformers.cache_utils.DynamicCache object at 0x7fa650e7a8d0>)]}"
      ]
     },
     "execution_count": 16,
     "metadata": {},
     "output_type": "execute_result"
    }
   ],
   "source": [
    "sft_samples[0]"
   ]
  },
  {
   "cell_type": "code",
   "execution_count": 13,
   "id": "22a9e214",
   "metadata": {},
   "outputs": [
    {
     "data": {
      "text/plain": [
       "tensor([[-inf, -inf, -inf,  ..., -inf, -inf, -inf]])"
      ]
     },
     "execution_count": 13,
     "metadata": {},
     "output_type": "execute_result"
    }
   ],
   "source": [
    "sft_samples[2]['generated_logits'][1].scores[0]\n"
   ]
  },
  {
   "cell_type": "code",
   "execution_count": null,
   "id": "a3c9e9d7",
   "metadata": {},
   "outputs": [],
   "source": []
  }
 ],
 "metadata": {
  "kernelspec": {
   "display_name": "trl",
   "language": "python",
   "name": "python3"
  },
  "language_info": {
   "codemirror_mode": {
    "name": "ipython",
    "version": 3
   },
   "file_extension": ".py",
   "mimetype": "text/x-python",
   "name": "python",
   "nbconvert_exporter": "python",
   "pygments_lexer": "ipython3",
   "version": "3.13.2"
  }
 },
 "nbformat": 4,
 "nbformat_minor": 5
}
